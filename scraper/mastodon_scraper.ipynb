{
 "cells": [
  {
   "cell_type": "code",
   "execution_count": 1,
   "metadata": {},
   "outputs": [],
   "source": [
    "#!pip install Mastodon.py\n",
    "#!pip install html2text"
   ]
  },
  {
   "cell_type": "code",
   "execution_count": 2,
   "metadata": {},
   "outputs": [],
   "source": [
    "import pandas as pd \n",
    "import matplotlib.pyplot as plt\n",
    "import html2text \n"
   ]
  },
  {
   "cell_type": "code",
   "execution_count": 4,
   "metadata": {},
   "outputs": [],
   "source": [
    "from mastodon import Mastodon\n",
    "\n",
    "instances = [\"mastodon.social\", \"troet.cafe\"]\n",
    "path = \"datasets/\"\n",
    "df_merged = pd.DataFrame()\n",
    "\n",
    "for instance in instances:\n",
    "        \n",
    "    mastodon = Mastodon(api_base_url = f'https://{instance}')\n",
    "\n",
    "    toots =mastodon.timeline_public(limit=40)\n",
    "    while len(toots) <100:\n",
    "        ## smallest used for min_id to get another set of toots\n",
    "        smallest = toots[-1].id \n",
    "        temp = mastodon.timeline_public(limit=40, min_id=smallest)\n",
    "        toots.extend(temp)\n",
    "        \n",
    "    toots_df = pd.DataFrame(toots)\n",
    "    #convert html to plain text\n",
    "    toots_df['content'] = toots_df['content'].apply(lambda x: html2text.html2text(x))\n",
    "    toots_df.to_csv(f'{path}{instance}_toots.csv',index=False)\n",
    "    df_merged = pd.concat([df_merged,toots_df],ignore_index=True)\n",
    "\n",
    "df_merged=df_merged.sample(frac = 1)\n",
    "df_merged.to_csv(f\"{path}toots_merged.csv\", index=True)\n",
    "    \n",
    "\n",
    "\n"
   ]
  }
 ],
 "metadata": {
  "kernelspec": {
   "display_name": "chatbots",
   "language": "python",
   "name": "python3"
  },
  "language_info": {
   "codemirror_mode": {
    "name": "ipython",
    "version": 3
   },
   "file_extension": ".py",
   "mimetype": "text/x-python",
   "name": "python",
   "nbconvert_exporter": "python",
   "pygments_lexer": "ipython3",
   "version": "3.9.15"
  },
  "orig_nbformat": 4
 },
 "nbformat": 4,
 "nbformat_minor": 2
}
